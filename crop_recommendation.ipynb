{
  "nbformat": 4,
  "nbformat_minor": 0,
  "metadata": {
    "colab": {
      "name": "Untitled16.ipynb",
      "provenance": [],
      "mount_file_id": "1jKMuXj-g6t-XQoAGmYGxXZ8QDtewSb7S",
      "authorship_tag": "ABX9TyM7aLR/bRrO1DX5ieVHDL7Y",
      "include_colab_link": true
    },
    "kernelspec": {
      "name": "python3",
      "display_name": "Python 3"
    },
    "language_info": {
      "name": "python"
    }
  },
  "cells": [
    {
      "cell_type": "markdown",
      "metadata": {
        "id": "view-in-github",
        "colab_type": "text"
      },
      "source": [
        "<a href=\"https://colab.research.google.com/github/BibekUpadhyaya/Crop_recommendation/blob/main/crop_recommendation.ipynb\" target=\"_parent\"><img src=\"https://colab.research.google.com/assets/colab-badge.svg\" alt=\"Open In Colab\"/></a>"
      ]
    },
    {
      "cell_type": "markdown",
      "metadata": {
        "id": "tHv8VAZrZWPs"
      },
      "source": [
        "Motivation 💪\n",
        "The agricultural sector is under increasing pressure to produce more food for the world's ever-increasing population. Meanwhile, profit margins are being squeezed, weather volatility is affecting production, and farming practises are being scrutinised to align with sustainable resource use, both on-farm and in business operations. Because of these factors, it has never been more important for producers to focus on both efficiency and productivity in order to drive business growth.\n",
        "\n",
        "Precision agriculture and the rise of agrotech solutions have transformed the industry's ability to optimize resource use for maximum yield. Pierre Robert is frequently considered the father of precision agriculture because of his active promotion of the idea and the organization of the first workshop,'Soil Specific Crop Management' in the early 1990s. It is a modern farming technique based on information and technology that uses data of different charecteristics and based on that suggest farmers to most optimal crops to grow that maintain profitability, efficiency, and sustainability while also protect the environment.\n",
        "\n",
        "In order to ease the agrarian crisis in the current state of affairs, stronger recommendation systems are required to assist farmers in making informed decisions prior to beginning crop cultivation."
      ]
    },
    {
      "cell_type": "markdown",
      "metadata": {
        "id": "SMCA_hrRZfoA"
      },
      "source": [
        "Objective 🎯\n",
        "Our objective is to build a recommendation system to recommend optimal crops for farmers to cultivate based on a variety of parameters and to assist them in making an informed decision prior to cultivation."
      ]
    },
    {
      "cell_type": "markdown",
      "metadata": {
        "id": "Z693fGtHZhyV"
      },
      "source": [
        ""
      ]
    },
    {
      "cell_type": "markdown",
      "metadata": {
        "id": "FoKMW6R_br_L"
      },
      "source": [
        "# Contents 📜\n",
        "* Preparation\n",
        "    * Load required modules\n",
        "    * Data description\n",
        "    * Data loading\n",
        "    * Data overview\n",
        "    * Missing values\n",
        "* Principal Component Analysis\n",
        "* Visualizations (Before PCA vs After PCA)\n",
        "* Feature Selection\n",
        "\n",
        "\n"
      ]
    },
    {
      "cell_type": "markdown",
      "metadata": {
        "id": "XK_T9vd7aQfS"
      },
      "source": [
        ""
      ]
    },
    {
      "cell_type": "markdown",
      "metadata": {
        "id": "k-Ah-HdtaQtR"
      },
      "source": [
        ""
      ]
    },
    {
      "cell_type": "markdown",
      "metadata": {
        "id": "O_E6E4-ybr_O"
      },
      "source": [
        "## Load required modules 🔽\n",
        "For now, we'll import the numpy, pandas, matplotlib, seaborn and we'll import the other packages later if necessary."
      ]
    },
    {
      "cell_type": "code",
      "metadata": {
        "id": "xOuB6bXHbr_P"
      },
      "source": [
        "import numpy as np\n",
        "import pandas as pd\n",
        "import matplotlib.pyplot as plt\n",
        "import seaborn as sns"
      ],
      "execution_count": 5,
      "outputs": []
    },
    {
      "cell_type": "markdown",
      "metadata": {
        "id": "6MHUYWUFab7a"
      },
      "source": [
        ""
      ]
    },
    {
      "cell_type": "markdown",
      "metadata": {
        "id": "Ft4i-kAgbr_R"
      },
      "source": [
        "## Data description 📄\n",
        "\n",
        "This [dataset](https://www.kaggle.com/atharvaingle/crop-recommendation-dataset) was build by augmenting datasets of rainfall, climate and fertilizer data available for India.\n",
        "\n",
        "### Data fields\n",
        "\n",
        "* N - ratio of Nitrogen content in soil\n",
        "* P - ratio of Phosphorous content in soil\n",
        "* K - ratio of Potassium content in soil\n",
        "* temperature - temperature in degree Celsius\n",
        "* humidity - relative humidity in %\n",
        "* ph - ph value of the soil\n",
        "* rainfall - rainfall in mm\n",
        "\n"
      ]
    },
    {
      "cell_type": "markdown",
      "metadata": {
        "id": "FST6_fQTbr_T"
      },
      "source": [
        "## Data Loading 📂\n",
        "We'll use pd.read_csv() function from pandas package to load the data as a dataframe. We'll also use DataFrame.head() and DataFrame.tail() functions to check first and last rows to ensure the formatting is proper for advanced steps."
      ]
    },
    {
      "cell_type": "code",
      "metadata": {
        "id": "kz3V0B-Obr_U"
      },
      "source": [
        "df=pd.read_csv('/content/drive/MyDrive/Crop_recommendation.csv')\n",
        "df1 = df.copy()"
      ],
      "execution_count": 6,
      "outputs": []
    },
    {
      "cell_type": "code",
      "metadata": {
        "colab": {
          "base_uri": "https://localhost:8080/",
          "height": 359
        },
        "id": "y6yvAIQgaoj2",
        "outputId": "f0d7c2e1-d8bf-40c3-9144-161101fa915b"
      },
      "source": [
        "df.head(10)"
      ],
      "execution_count": 7,
      "outputs": [
        {
          "output_type": "execute_result",
          "data": {
            "text/html": [
              "<div>\n",
              "<style scoped>\n",
              "    .dataframe tbody tr th:only-of-type {\n",
              "        vertical-align: middle;\n",
              "    }\n",
              "\n",
              "    .dataframe tbody tr th {\n",
              "        vertical-align: top;\n",
              "    }\n",
              "\n",
              "    .dataframe thead th {\n",
              "        text-align: right;\n",
              "    }\n",
              "</style>\n",
              "<table border=\"1\" class=\"dataframe\">\n",
              "  <thead>\n",
              "    <tr style=\"text-align: right;\">\n",
              "      <th></th>\n",
              "      <th>N</th>\n",
              "      <th>P</th>\n",
              "      <th>K</th>\n",
              "      <th>temperature</th>\n",
              "      <th>humidity</th>\n",
              "      <th>ph</th>\n",
              "      <th>rainfall</th>\n",
              "      <th>label</th>\n",
              "    </tr>\n",
              "  </thead>\n",
              "  <tbody>\n",
              "    <tr>\n",
              "      <th>0</th>\n",
              "      <td>90</td>\n",
              "      <td>42</td>\n",
              "      <td>43</td>\n",
              "      <td>20.879744</td>\n",
              "      <td>82.002744</td>\n",
              "      <td>6.502985</td>\n",
              "      <td>202.935536</td>\n",
              "      <td>rice</td>\n",
              "    </tr>\n",
              "    <tr>\n",
              "      <th>1</th>\n",
              "      <td>85</td>\n",
              "      <td>58</td>\n",
              "      <td>41</td>\n",
              "      <td>21.770462</td>\n",
              "      <td>80.319644</td>\n",
              "      <td>7.038096</td>\n",
              "      <td>226.655537</td>\n",
              "      <td>rice</td>\n",
              "    </tr>\n",
              "    <tr>\n",
              "      <th>2</th>\n",
              "      <td>60</td>\n",
              "      <td>55</td>\n",
              "      <td>44</td>\n",
              "      <td>23.004459</td>\n",
              "      <td>82.320763</td>\n",
              "      <td>7.840207</td>\n",
              "      <td>263.964248</td>\n",
              "      <td>rice</td>\n",
              "    </tr>\n",
              "    <tr>\n",
              "      <th>3</th>\n",
              "      <td>74</td>\n",
              "      <td>35</td>\n",
              "      <td>40</td>\n",
              "      <td>26.491096</td>\n",
              "      <td>80.158363</td>\n",
              "      <td>6.980401</td>\n",
              "      <td>242.864034</td>\n",
              "      <td>rice</td>\n",
              "    </tr>\n",
              "    <tr>\n",
              "      <th>4</th>\n",
              "      <td>78</td>\n",
              "      <td>42</td>\n",
              "      <td>42</td>\n",
              "      <td>20.130175</td>\n",
              "      <td>81.604873</td>\n",
              "      <td>7.628473</td>\n",
              "      <td>262.717340</td>\n",
              "      <td>rice</td>\n",
              "    </tr>\n",
              "    <tr>\n",
              "      <th>5</th>\n",
              "      <td>69</td>\n",
              "      <td>37</td>\n",
              "      <td>42</td>\n",
              "      <td>23.058049</td>\n",
              "      <td>83.370118</td>\n",
              "      <td>7.073454</td>\n",
              "      <td>251.055000</td>\n",
              "      <td>rice</td>\n",
              "    </tr>\n",
              "    <tr>\n",
              "      <th>6</th>\n",
              "      <td>69</td>\n",
              "      <td>55</td>\n",
              "      <td>38</td>\n",
              "      <td>22.708838</td>\n",
              "      <td>82.639414</td>\n",
              "      <td>5.700806</td>\n",
              "      <td>271.324860</td>\n",
              "      <td>rice</td>\n",
              "    </tr>\n",
              "    <tr>\n",
              "      <th>7</th>\n",
              "      <td>94</td>\n",
              "      <td>53</td>\n",
              "      <td>40</td>\n",
              "      <td>20.277744</td>\n",
              "      <td>82.894086</td>\n",
              "      <td>5.718627</td>\n",
              "      <td>241.974195</td>\n",
              "      <td>rice</td>\n",
              "    </tr>\n",
              "    <tr>\n",
              "      <th>8</th>\n",
              "      <td>89</td>\n",
              "      <td>54</td>\n",
              "      <td>38</td>\n",
              "      <td>24.515881</td>\n",
              "      <td>83.535216</td>\n",
              "      <td>6.685346</td>\n",
              "      <td>230.446236</td>\n",
              "      <td>rice</td>\n",
              "    </tr>\n",
              "    <tr>\n",
              "      <th>9</th>\n",
              "      <td>68</td>\n",
              "      <td>58</td>\n",
              "      <td>38</td>\n",
              "      <td>23.223974</td>\n",
              "      <td>83.033227</td>\n",
              "      <td>6.336254</td>\n",
              "      <td>221.209196</td>\n",
              "      <td>rice</td>\n",
              "    </tr>\n",
              "  </tbody>\n",
              "</table>\n",
              "</div>"
            ],
            "text/plain": [
              "    N   P   K  temperature   humidity        ph    rainfall label\n",
              "0  90  42  43    20.879744  82.002744  6.502985  202.935536  rice\n",
              "1  85  58  41    21.770462  80.319644  7.038096  226.655537  rice\n",
              "2  60  55  44    23.004459  82.320763  7.840207  263.964248  rice\n",
              "3  74  35  40    26.491096  80.158363  6.980401  242.864034  rice\n",
              "4  78  42  42    20.130175  81.604873  7.628473  262.717340  rice\n",
              "5  69  37  42    23.058049  83.370118  7.073454  251.055000  rice\n",
              "6  69  55  38    22.708838  82.639414  5.700806  271.324860  rice\n",
              "7  94  53  40    20.277744  82.894086  5.718627  241.974195  rice\n",
              "8  89  54  38    24.515881  83.535216  6.685346  230.446236  rice\n",
              "9  68  58  38    23.223974  83.033227  6.336254  221.209196  rice"
            ]
          },
          "metadata": {},
          "execution_count": 7
        }
      ]
    },
    {
      "cell_type": "code",
      "metadata": {
        "colab": {
          "base_uri": "https://localhost:8080/",
          "height": 359
        },
        "id": "BZDTv1_SarP-",
        "outputId": "519e39b0-abbf-44c2-cfc2-61b834136701"
      },
      "source": [
        "df.tail(10)"
      ],
      "execution_count": 8,
      "outputs": [
        {
          "output_type": "execute_result",
          "data": {
            "text/html": [
              "<div>\n",
              "<style scoped>\n",
              "    .dataframe tbody tr th:only-of-type {\n",
              "        vertical-align: middle;\n",
              "    }\n",
              "\n",
              "    .dataframe tbody tr th {\n",
              "        vertical-align: top;\n",
              "    }\n",
              "\n",
              "    .dataframe thead th {\n",
              "        text-align: right;\n",
              "    }\n",
              "</style>\n",
              "<table border=\"1\" class=\"dataframe\">\n",
              "  <thead>\n",
              "    <tr style=\"text-align: right;\">\n",
              "      <th></th>\n",
              "      <th>N</th>\n",
              "      <th>P</th>\n",
              "      <th>K</th>\n",
              "      <th>temperature</th>\n",
              "      <th>humidity</th>\n",
              "      <th>ph</th>\n",
              "      <th>rainfall</th>\n",
              "      <th>label</th>\n",
              "    </tr>\n",
              "  </thead>\n",
              "  <tbody>\n",
              "    <tr>\n",
              "      <th>2190</th>\n",
              "      <td>103</td>\n",
              "      <td>40</td>\n",
              "      <td>30</td>\n",
              "      <td>27.309018</td>\n",
              "      <td>55.196224</td>\n",
              "      <td>6.348316</td>\n",
              "      <td>141.483164</td>\n",
              "      <td>coffee</td>\n",
              "    </tr>\n",
              "    <tr>\n",
              "      <th>2191</th>\n",
              "      <td>118</td>\n",
              "      <td>31</td>\n",
              "      <td>34</td>\n",
              "      <td>27.548230</td>\n",
              "      <td>62.881792</td>\n",
              "      <td>6.123796</td>\n",
              "      <td>181.417081</td>\n",
              "      <td>coffee</td>\n",
              "    </tr>\n",
              "    <tr>\n",
              "      <th>2192</th>\n",
              "      <td>106</td>\n",
              "      <td>21</td>\n",
              "      <td>35</td>\n",
              "      <td>25.627355</td>\n",
              "      <td>57.041511</td>\n",
              "      <td>7.428524</td>\n",
              "      <td>188.550654</td>\n",
              "      <td>coffee</td>\n",
              "    </tr>\n",
              "    <tr>\n",
              "      <th>2193</th>\n",
              "      <td>116</td>\n",
              "      <td>38</td>\n",
              "      <td>34</td>\n",
              "      <td>23.292503</td>\n",
              "      <td>50.045570</td>\n",
              "      <td>6.020947</td>\n",
              "      <td>183.468585</td>\n",
              "      <td>coffee</td>\n",
              "    </tr>\n",
              "    <tr>\n",
              "      <th>2194</th>\n",
              "      <td>97</td>\n",
              "      <td>35</td>\n",
              "      <td>26</td>\n",
              "      <td>24.914610</td>\n",
              "      <td>53.741447</td>\n",
              "      <td>6.334610</td>\n",
              "      <td>166.254931</td>\n",
              "      <td>coffee</td>\n",
              "    </tr>\n",
              "    <tr>\n",
              "      <th>2195</th>\n",
              "      <td>107</td>\n",
              "      <td>34</td>\n",
              "      <td>32</td>\n",
              "      <td>26.774637</td>\n",
              "      <td>66.413269</td>\n",
              "      <td>6.780064</td>\n",
              "      <td>177.774507</td>\n",
              "      <td>coffee</td>\n",
              "    </tr>\n",
              "    <tr>\n",
              "      <th>2196</th>\n",
              "      <td>99</td>\n",
              "      <td>15</td>\n",
              "      <td>27</td>\n",
              "      <td>27.417112</td>\n",
              "      <td>56.636362</td>\n",
              "      <td>6.086922</td>\n",
              "      <td>127.924610</td>\n",
              "      <td>coffee</td>\n",
              "    </tr>\n",
              "    <tr>\n",
              "      <th>2197</th>\n",
              "      <td>118</td>\n",
              "      <td>33</td>\n",
              "      <td>30</td>\n",
              "      <td>24.131797</td>\n",
              "      <td>67.225123</td>\n",
              "      <td>6.362608</td>\n",
              "      <td>173.322839</td>\n",
              "      <td>coffee</td>\n",
              "    </tr>\n",
              "    <tr>\n",
              "      <th>2198</th>\n",
              "      <td>117</td>\n",
              "      <td>32</td>\n",
              "      <td>34</td>\n",
              "      <td>26.272418</td>\n",
              "      <td>52.127394</td>\n",
              "      <td>6.758793</td>\n",
              "      <td>127.175293</td>\n",
              "      <td>coffee</td>\n",
              "    </tr>\n",
              "    <tr>\n",
              "      <th>2199</th>\n",
              "      <td>104</td>\n",
              "      <td>18</td>\n",
              "      <td>30</td>\n",
              "      <td>23.603016</td>\n",
              "      <td>60.396475</td>\n",
              "      <td>6.779833</td>\n",
              "      <td>140.937041</td>\n",
              "      <td>coffee</td>\n",
              "    </tr>\n",
              "  </tbody>\n",
              "</table>\n",
              "</div>"
            ],
            "text/plain": [
              "        N   P   K  temperature   humidity        ph    rainfall   label\n",
              "2190  103  40  30    27.309018  55.196224  6.348316  141.483164  coffee\n",
              "2191  118  31  34    27.548230  62.881792  6.123796  181.417081  coffee\n",
              "2192  106  21  35    25.627355  57.041511  7.428524  188.550654  coffee\n",
              "2193  116  38  34    23.292503  50.045570  6.020947  183.468585  coffee\n",
              "2194   97  35  26    24.914610  53.741447  6.334610  166.254931  coffee\n",
              "2195  107  34  32    26.774637  66.413269  6.780064  177.774507  coffee\n",
              "2196   99  15  27    27.417112  56.636362  6.086922  127.924610  coffee\n",
              "2197  118  33  30    24.131797  67.225123  6.362608  173.322839  coffee\n",
              "2198  117  32  34    26.272418  52.127394  6.758793  127.175293  coffee\n",
              "2199  104  18  30    23.603016  60.396475  6.779833  140.937041  coffee"
            ]
          },
          "metadata": {},
          "execution_count": 8
        }
      ]
    },
    {
      "cell_type": "markdown",
      "metadata": {
        "id": "fFMnThX6a38Y"
      },
      "source": [
        ""
      ]
    },
    {
      "cell_type": "markdown",
      "metadata": {
        "id": "TZmEUIK2br_a"
      },
      "source": [
        "## Data Overview 📎"
      ]
    },
    {
      "cell_type": "markdown",
      "metadata": {
        "id": "Kn2cr9bpa7Va"
      },
      "source": [
        "Let's look at the dimension of the data, column data types, missing values and target labels.\n"
      ]
    },
    {
      "cell_type": "code",
      "metadata": {
        "colab": {
          "base_uri": "https://localhost:8080/"
        },
        "id": "bh2TFcDva9_W",
        "outputId": "53349b14-49b2-4e7f-cbd8-ca00252e8ce6"
      },
      "source": [
        "df.shape"
      ],
      "execution_count": 9,
      "outputs": [
        {
          "output_type": "execute_result",
          "data": {
            "text/plain": [
              "(2200, 8)"
            ]
          },
          "metadata": {},
          "execution_count": 9
        }
      ]
    },
    {
      "cell_type": "markdown",
      "metadata": {
        "id": "PCRoZ7flbERe"
      },
      "source": [
        "So, we have here 2200 rows or samples and 8 columns (7 features and 1 target variable)"
      ]
    },
    {
      "cell_type": "code",
      "metadata": {
        "colab": {
          "base_uri": "https://localhost:8080/"
        },
        "id": "SJ4j3YN0aurP",
        "outputId": "e0567b3c-dde8-43db-a823-d9e4610a5412"
      },
      "source": [
        "df.info()"
      ],
      "execution_count": 10,
      "outputs": [
        {
          "output_type": "stream",
          "name": "stdout",
          "text": [
            "<class 'pandas.core.frame.DataFrame'>\n",
            "RangeIndex: 2200 entries, 0 to 2199\n",
            "Data columns (total 8 columns):\n",
            " #   Column       Non-Null Count  Dtype  \n",
            "---  ------       --------------  -----  \n",
            " 0   N            2200 non-null   int64  \n",
            " 1   P            2200 non-null   int64  \n",
            " 2   K            2200 non-null   int64  \n",
            " 3   temperature  2200 non-null   float64\n",
            " 4   humidity     2200 non-null   float64\n",
            " 5   ph           2200 non-null   float64\n",
            " 6   rainfall     2200 non-null   float64\n",
            " 7   label        2200 non-null   object \n",
            "dtypes: float64(4), int64(3), object(1)\n",
            "memory usage: 137.6+ KB\n"
          ]
        }
      ]
    },
    {
      "cell_type": "code",
      "metadata": {
        "colab": {
          "base_uri": "https://localhost:8080/"
        },
        "id": "s1KWjbbcbNi6",
        "outputId": "99fccfba-5a56-48a1-e867-9370afe66def"
      },
      "source": [
        "np.size(df['label'].unique())"
      ],
      "execution_count": 11,
      "outputs": [
        {
          "output_type": "execute_result",
          "data": {
            "text/plain": [
              "22"
            ]
          },
          "metadata": {},
          "execution_count": 11
        }
      ]
    },
    {
      "cell_type": "markdown",
      "metadata": {
        "id": "4jFP2-4CbSzS"
      },
      "source": [
        "We have here data on 22 crops. It is required to check how many samples we have for each crop?"
      ]
    },
    {
      "cell_type": "code",
      "metadata": {
        "colab": {
          "base_uri": "https://localhost:8080/"
        },
        "id": "X_HAKaYYbXGx",
        "outputId": "1cdeb25c-64f2-4f75-ef48-5cade19bbb33"
      },
      "source": [
        "df['label'].value_counts()"
      ],
      "execution_count": 12,
      "outputs": [
        {
          "output_type": "execute_result",
          "data": {
            "text/plain": [
              "cotton         100\n",
              "rice           100\n",
              "kidneybeans    100\n",
              "blackgram      100\n",
              "watermelon     100\n",
              "muskmelon      100\n",
              "orange         100\n",
              "jute           100\n",
              "mothbeans      100\n",
              "lentil         100\n",
              "coconut        100\n",
              "pigeonpeas     100\n",
              "mungbean       100\n",
              "grapes         100\n",
              "mango          100\n",
              "chickpea       100\n",
              "banana         100\n",
              "maize          100\n",
              "pomegranate    100\n",
              "apple          100\n",
              "coffee         100\n",
              "papaya         100\n",
              "Name: label, dtype: int64"
            ]
          },
          "metadata": {},
          "execution_count": 12
        }
      ]
    },
    {
      "cell_type": "markdown",
      "metadata": {
        "id": "nm3D9PEWbbYJ"
      },
      "source": [
        "Therefore, for each crop we have 100 samples. i.e. our data is \"Balanced\"\n"
      ]
    },
    {
      "cell_type": "markdown",
      "metadata": {
        "id": "X9VOvT-wbgA7"
      },
      "source": [
        ""
      ]
    },
    {
      "cell_type": "markdown",
      "metadata": {
        "id": "6AlyOOrnbr_i"
      },
      "source": [
        "## Missing values 🔎"
      ]
    },
    {
      "cell_type": "code",
      "metadata": {
        "colab": {
          "base_uri": "https://localhost:8080/",
          "height": 340
        },
        "id": "3npylUOublzX",
        "outputId": "7b83adb0-39d6-43bf-f67c-ca471dc44b91"
      },
      "source": [
        "sns.heatmap(df.isna())"
      ],
      "execution_count": 13,
      "outputs": [
        {
          "output_type": "execute_result",
          "data": {
            "text/plain": [
              "<matplotlib.axes._subplots.AxesSubplot at 0x7f8b9312dd10>"
            ]
          },
          "metadata": {},
          "execution_count": 13
        },
        {
          "output_type": "display_data",
          "data": {
            "image/png": "[encoded data removed]",
            "text/plain": [
              "<Figure size 432x288 with 2 Axes>"
            ]
          },
          "metadata": {
            "needs_background": "light"
          }
        }
      ]
    },
    {
      "cell_type": "markdown",
      "metadata": {
        "id": "q1YB4bCTbquX"
      },
      "source": [
        "We haven't any NA values in the data. So the data cleaning is not required"
      ]
    },
    {
      "cell_type": "markdown",
      "metadata": {
        "id": "fphNzo5Hb96H"
      },
      "source": [
        ""
      ]
    },
    {
      "cell_type": "markdown",
      "metadata": {
        "id": "zhLzkeP5br_8"
      },
      "source": [
        "# Forward feature selection"
      ]
    },
    {
      "cell_type": "code",
      "metadata": {
        "id": "jgjZllgcbyXc"
      },
      "source": [
        "from sklearn.tree import DecisionTreeClassifier\n",
        "from sklearn.model_selection import train_test_split\n",
        "from sklearn.metrics import accuracy_score"
      ],
      "execution_count": 14,
      "outputs": []
    },
    {
      "cell_type": "code",
      "metadata": {
        "colab": {
          "base_uri": "https://localhost:8080/"
        },
        "id": "u13nPGXBnGIn",
        "outputId": "6d2f4529-37da-4518-a24d-1b4bf3bff998"
      },
      "source": [
        "target = df1.label\n",
        "target"
      ],
      "execution_count": 15,
      "outputs": [
        {
          "output_type": "execute_result",
          "data": {
            "text/plain": [
              "0         rice\n",
              "1         rice\n",
              "2         rice\n",
              "3         rice\n",
              "4         rice\n",
              "         ...  \n",
              "2195    coffee\n",
              "2196    coffee\n",
              "2197    coffee\n",
              "2198    coffee\n",
              "2199    coffee\n",
              "Name: label, Length: 2200, dtype: object"
            ]
          },
          "metadata": {},
          "execution_count": 15
        }
      ]
    },
    {
      "cell_type": "code",
      "metadata": {
        "colab": {
          "base_uri": "https://localhost:8080/"
        },
        "id": "wCOiM75xnMmr",
        "outputId": "b817b7cd-0a31-4458-b71e-a44ec15de9a0"
      },
      "source": [
        "type(target)"
      ],
      "execution_count": 16,
      "outputs": [
        {
          "output_type": "execute_result",
          "data": {
            "text/plain": [
              "pandas.core.series.Series"
            ]
          },
          "metadata": {},
          "execution_count": 16
        }
      ]
    },
    {
      "cell_type": "code",
      "metadata": {
        "id": "_5gu1AbcnR6v"
      },
      "source": [
        "df2 = df.copy()\n",
        "df2.drop('label', axis = 1, inplace = True)"
      ],
      "execution_count": 17,
      "outputs": []
    },
    {
      "cell_type": "code",
      "metadata": {
        "id": "CaW1jQqonWop"
      },
      "source": [
        "x_train, x_cv, y_train, y_cv = train_test_split(df2, target, test_size=0.2, stratify=target)"
      ],
      "execution_count": 18,
      "outputs": []
    },
    {
      "cell_type": "code",
      "metadata": {
        "id": "XV6ZuQbPnZ5P"
      },
      "source": [
        "def evaluate_metric(model, x_cv, y_cv):\n",
        "    return accuracy_score(y_cv, model.predict(x_cv))"
      ],
      "execution_count": 19,
      "outputs": []
    },
    {
      "cell_type": "code",
      "metadata": {
        "id": "WuvNoeUSnhfL"
      },
      "source": [
        "def forward_feature_selection(x_train, x_cv, y_train, y_cv, n):\n",
        "    feature_set = []\n",
        "    for num_features in range(n):\n",
        "        metric_list = [] \n",
        "        model = DecisionTreeClassifier() \n",
        "        for feature in x_train.columns:\n",
        "            if feature not in feature_set:\n",
        "                f_set = feature_set.copy()\n",
        "                f_set.append(feature)\n",
        "                model.fit(x_train[f_set], y_train)\n",
        "                metric_list.append((evaluate_metric(model, x_cv[f_set], y_cv), feature))\n",
        "\n",
        "        metric_list.sort(key=lambda x : x[0], reverse = True) \n",
        "        feature_set.append(metric_list[0][1])\n",
        "    return feature_set"
      ],
      "execution_count": 20,
      "outputs": []
    },
    {
      "cell_type": "code",
      "metadata": {
        "id": "--XaUx5anwet"
      },
      "source": [
        "f=forward_feature_selection(x_train, x_cv, y_train, y_cv, 6)"
      ],
      "execution_count": 21,
      "outputs": []
    },
    {
      "cell_type": "code",
      "metadata": {
        "colab": {
          "base_uri": "https://localhost:8080/"
        },
        "id": "XYvMiZu9n1Li",
        "outputId": "6eb9a929-1e32-4ede-c65c-3c8042cb9b6c"
      },
      "source": [
        "f"
      ],
      "execution_count": 22,
      "outputs": [
        {
          "output_type": "execute_result",
          "data": {
            "text/plain": [
              "['rainfall', 'humidity', 'K', 'ph', 'N', 'P']"
            ]
          },
          "metadata": {},
          "execution_count": 22
        }
      ]
    },
    {
      "cell_type": "markdown",
      "metadata": {
        "id": "uPFJFWkZn6GI"
      },
      "source": [
        "We have implemented here the forward feature selection method. Now we're getting K, humidity, rainfall, N in our final feature set.\n",
        "\n"
      ]
    },
    {
      "cell_type": "markdown",
      "metadata": {
        "id": "UOGL7Z2Zom8O"
      },
      "source": [
        "Let us now proceed for Feature Selection using Correlation"
      ]
    },
    {
      "cell_type": "code",
      "metadata": {
        "id": "9HyxESyrul00"
      },
      "source": [
        "a=df.drop('label',axis=1).values\n",
        "b=df['label'].values"
      ],
      "execution_count": 25,
      "outputs": []
    },
    {
      "cell_type": "code",
      "metadata": {
        "colab": {
          "base_uri": "https://localhost:8080/",
          "height": 419
        },
        "id": "J1qUPwqZ3f9i",
        "outputId": "9d84ec57-e2f9-4d25-83c8-e46af8f69826"
      },
      "source": [
        "X=pd.DataFrame(a,columns=['N','P','K','temperature','humidity','ph','rainfall'])\n",
        "X"
      ],
      "execution_count": 26,
      "outputs": [
        {
          "output_type": "execute_result",
          "data": {
            "text/html": [
              "<div>\n",
              "<style scoped>\n",
              "    .dataframe tbody tr th:only-of-type {\n",
              "        vertical-align: middle;\n",
              "    }\n",
              "\n",
              "    .dataframe tbody tr th {\n",
              "        vertical-align: top;\n",
              "    }\n",
              "\n",
              "    .dataframe thead th {\n",
              "        text-align: right;\n",
              "    }\n",
              "</style>\n",
              "<table border=\"1\" class=\"dataframe\">\n",
              "  <thead>\n",
              "    <tr style=\"text-align: right;\">\n",
              "      <th></th>\n",
              "      <th>N</th>\n",
              "      <th>P</th>\n",
              "      <th>K</th>\n",
              "      <th>temperature</th>\n",
              "      <th>humidity</th>\n",
              "      <th>ph</th>\n",
              "      <th>rainfall</th>\n",
              "    </tr>\n",
              "  </thead>\n",
              "  <tbody>\n",
              "    <tr>\n",
              "      <th>0</th>\n",
              "      <td>90.0</td>\n",
              "      <td>42.0</td>\n",
              "      <td>43.0</td>\n",
              "      <td>20.879744</td>\n",
              "      <td>82.002744</td>\n",
              "      <td>6.502985</td>\n",
              "      <td>202.935536</td>\n",
              "    </tr>\n",
              "    <tr>\n",
              "      <th>1</th>\n",
              "      <td>85.0</td>\n",
              "      <td>58.0</td>\n",
              "      <td>41.0</td>\n",
              "      <td>21.770462</td>\n",
              "      <td>80.319644</td>\n",
              "      <td>7.038096</td>\n",
              "      <td>226.655537</td>\n",
              "    </tr>\n",
              "    <tr>\n",
              "      <th>2</th>\n",
              "      <td>60.0</td>\n",
              "      <td>55.0</td>\n",
              "      <td>44.0</td>\n",
              "      <td>23.004459</td>\n",
              "      <td>82.320763</td>\n",
              "      <td>7.840207</td>\n",
              "      <td>263.964248</td>\n",
              "    </tr>\n",
              "    <tr>\n",
              "      <th>3</th>\n",
              "      <td>74.0</td>\n",
              "      <td>35.0</td>\n",
              "      <td>40.0</td>\n",
              "      <td>26.491096</td>\n",
              "      <td>80.158363</td>\n",
              "      <td>6.980401</td>\n",
              "      <td>242.864034</td>\n",
              "    </tr>\n",
              "    <tr>\n",
              "      <th>4</th>\n",
              "      <td>78.0</td>\n",
              "      <td>42.0</td>\n",
              "      <td>42.0</td>\n",
              "      <td>20.130175</td>\n",
              "      <td>81.604873</td>\n",
              "      <td>7.628473</td>\n",
              "      <td>262.717340</td>\n",
              "    </tr>\n",
              "    <tr>\n",
              "      <th>...</th>\n",
              "      <td>...</td>\n",
              "      <td>...</td>\n",
              "      <td>...</td>\n",
              "      <td>...</td>\n",
              "      <td>...</td>\n",
              "      <td>...</td>\n",
              "      <td>...</td>\n",
              "    </tr>\n",
              "    <tr>\n",
              "      <th>2195</th>\n",
              "      <td>107.0</td>\n",
              "      <td>34.0</td>\n",
              "      <td>32.0</td>\n",
              "      <td>26.774637</td>\n",
              "      <td>66.413269</td>\n",
              "      <td>6.780064</td>\n",
              "      <td>177.774507</td>\n",
              "    </tr>\n",
              "    <tr>\n",
              "      <th>2196</th>\n",
              "      <td>99.0</td>\n",
              "      <td>15.0</td>\n",
              "      <td>27.0</td>\n",
              "      <td>27.417112</td>\n",
              "      <td>56.636362</td>\n",
              "      <td>6.086922</td>\n",
              "      <td>127.924610</td>\n",
              "    </tr>\n",
              "    <tr>\n",
              "      <th>2197</th>\n",
              "      <td>118.0</td>\n",
              "      <td>33.0</td>\n",
              "      <td>30.0</td>\n",
              "      <td>24.131797</td>\n",
              "      <td>67.225123</td>\n",
              "      <td>6.362608</td>\n",
              "      <td>173.322839</td>\n",
              "    </tr>\n",
              "    <tr>\n",
              "      <th>2198</th>\n",
              "      <td>117.0</td>\n",
              "      <td>32.0</td>\n",
              "      <td>34.0</td>\n",
              "      <td>26.272418</td>\n",
              "      <td>52.127394</td>\n",
              "      <td>6.758793</td>\n",
              "      <td>127.175293</td>\n",
              "    </tr>\n",
              "    <tr>\n",
              "      <th>2199</th>\n",
              "      <td>104.0</td>\n",
              "      <td>18.0</td>\n",
              "      <td>30.0</td>\n",
              "      <td>23.603016</td>\n",
              "      <td>60.396475</td>\n",
              "      <td>6.779833</td>\n",
              "      <td>140.937041</td>\n",
              "    </tr>\n",
              "  </tbody>\n",
              "</table>\n",
              "<p>2200 rows × 7 columns</p>\n",
              "</div>"
            ],
            "text/plain": [
              "          N     P     K  temperature   humidity        ph    rainfall\n",
              "0      90.0  42.0  43.0    20.879744  82.002744  6.502985  202.935536\n",
              "1      85.0  58.0  41.0    21.770462  80.319644  7.038096  226.655537\n",
              "2      60.0  55.0  44.0    23.004459  82.320763  7.840207  263.964248\n",
              "3      74.0  35.0  40.0    26.491096  80.158363  6.980401  242.864034\n",
              "4      78.0  42.0  42.0    20.130175  81.604873  7.628473  262.717340\n",
              "...     ...   ...   ...          ...        ...       ...         ...\n",
              "2195  107.0  34.0  32.0    26.774637  66.413269  6.780064  177.774507\n",
              "2196   99.0  15.0  27.0    27.417112  56.636362  6.086922  127.924610\n",
              "2197  118.0  33.0  30.0    24.131797  67.225123  6.362608  173.322839\n",
              "2198  117.0  32.0  34.0    26.272418  52.127394  6.758793  127.175293\n",
              "2199  104.0  18.0  30.0    23.603016  60.396475  6.779833  140.937041\n",
              "\n",
              "[2200 rows x 7 columns]"
            ]
          },
          "metadata": {},
          "execution_count": 26
        }
      ]
    },
    {
      "cell_type": "code",
      "metadata": {
        "colab": {
          "base_uri": "https://localhost:8080/",
          "height": 419
        },
        "id": "Mah-OHy1u_5e",
        "outputId": "c22aa444-be76-4ae4-9899-8879cda7b559"
      },
      "source": [
        "Y=pd.DataFrame(b,columns=['labels'])\n",
        "Y"
      ],
      "execution_count": 27,
      "outputs": [
        {
          "output_type": "execute_result",
          "data": {
            "text/html": [
              "<div>\n",
              "<style scoped>\n",
              "    .dataframe tbody tr th:only-of-type {\n",
              "        vertical-align: middle;\n",
              "    }\n",
              "\n",
              "    .dataframe tbody tr th {\n",
              "        vertical-align: top;\n",
              "    }\n",
              "\n",
              "    .dataframe thead th {\n",
              "        text-align: right;\n",
              "    }\n",
              "</style>\n",
              "<table border=\"1\" class=\"dataframe\">\n",
              "  <thead>\n",
              "    <tr style=\"text-align: right;\">\n",
              "      <th></th>\n",
              "      <th>labels</th>\n",
              "    </tr>\n",
              "  </thead>\n",
              "  <tbody>\n",
              "    <tr>\n",
              "      <th>0</th>\n",
              "      <td>rice</td>\n",
              "    </tr>\n",
              "    <tr>\n",
              "      <th>1</th>\n",
              "      <td>rice</td>\n",
              "    </tr>\n",
              "    <tr>\n",
              "      <th>2</th>\n",
              "      <td>rice</td>\n",
              "    </tr>\n",
              "    <tr>\n",
              "      <th>3</th>\n",
              "      <td>rice</td>\n",
              "    </tr>\n",
              "    <tr>\n",
              "      <th>4</th>\n",
              "      <td>rice</td>\n",
              "    </tr>\n",
              "    <tr>\n",
              "      <th>...</th>\n",
              "      <td>...</td>\n",
              "    </tr>\n",
              "    <tr>\n",
              "      <th>2195</th>\n",
              "      <td>coffee</td>\n",
              "    </tr>\n",
              "    <tr>\n",
              "      <th>2196</th>\n",
              "      <td>coffee</td>\n",
              "    </tr>\n",
              "    <tr>\n",
              "      <th>2197</th>\n",
              "      <td>coffee</td>\n",
              "    </tr>\n",
              "    <tr>\n",
              "      <th>2198</th>\n",
              "      <td>coffee</td>\n",
              "    </tr>\n",
              "    <tr>\n",
              "      <th>2199</th>\n",
              "      <td>coffee</td>\n",
              "    </tr>\n",
              "  </tbody>\n",
              "</table>\n",
              "<p>2200 rows × 1 columns</p>\n",
              "</div>"
            ],
            "text/plain": [
              "      labels\n",
              "0       rice\n",
              "1       rice\n",
              "2       rice\n",
              "3       rice\n",
              "4       rice\n",
              "...      ...\n",
              "2195  coffee\n",
              "2196  coffee\n",
              "2197  coffee\n",
              "2198  coffee\n",
              "2199  coffee\n",
              "\n",
              "[2200 rows x 1 columns]"
            ]
          },
          "metadata": {},
          "execution_count": 27
        }
      ]
    },
    {
      "cell_type": "code",
      "metadata": {
        "colab": {
          "base_uri": "https://localhost:8080/"
        },
        "id": "cDOj2pmrogbC",
        "outputId": "fccd3279-e5d3-4d75-b8ce-f53bf2f11533"
      },
      "source": [
        "# separate dataset into train and test\n",
        "from sklearn.model_selection import train_test_split\n",
        "X_train,X_test,Y_train,Y_test=train_test_split(\n",
        "     X,\n",
        "     Y,\n",
        "     test_size=0.2,\n",
        "     random_state=0)\n",
        "\n",
        "X_train.shape,X_test.shape"
      ],
      "execution_count": 28,
      "outputs": [
        {
          "output_type": "execute_result",
          "data": {
            "text/plain": [
              "((1760, 7), (440, 7))"
            ]
          },
          "metadata": {},
          "execution_count": 28
        }
      ]
    },
    {
      "cell_type": "code",
      "metadata": {
        "colab": {
          "base_uri": "https://localhost:8080/",
          "height": 613
        },
        "id": "1KZoatP-oyzA",
        "outputId": "ea16b246-ce5a-47f7-a864-d2ecc8a52f1e"
      },
      "source": [
        "#Using Pearson Correlation\n",
        "plt.figure(figsize=(12,10))\n",
        "corr = X_train.corr()\n",
        "sns.heatmap(corr,annot=True,cmap=plt.cm.CMRmap_r)\n",
        "plt.show"
      ],
      "execution_count": 29,
      "outputs": [
        {
          "output_type": "execute_result",
          "data": {
            "text/plain": [
              "<function matplotlib.pyplot.show>"
            ]
          },
          "metadata": {},
          "execution_count": 29
        },
        {
          "output_type": "display_data",
          "data": {
            "image/png": "[encoded data removed]",
            "text/plain": [
              "<Figure size 864x720 with 2 Axes>"
            ]
          },
          "metadata": {
            "needs_background": "light"
          }
        }
      ]
    },
    {
      "cell_type": "code",
      "metadata": {
        "id": "AGvNxDZPo8p7"
      },
      "source": [
        "# with the following function we can select highly correlated features\n",
        "# it will remove the first feature that is correlated with anything other feature\n",
        "\n",
        "def correlation(dataset,threshold): \n",
        "    col_corr=set() # Set of all the names of correlated columns\n",
        "    corr_matrix = dataset.corr()\n",
        "    for i in range(len(corr_matrix.columns)):\n",
        "        for j in range(i):\n",
        "            if corr_matrix.iloc[i,j] > threshold: #we are interested in absolute coeff values\n",
        "                colname= corr_matrix.columns[i] # getting the name of column\n",
        "                col_corr.add(colname)\n",
        "    return col_corr         "
      ],
      "execution_count": 30,
      "outputs": []
    },
    {
      "cell_type": "code",
      "metadata": {
        "colab": {
          "base_uri": "https://localhost:8080/"
        },
        "id": "6MVXtJ_ypAA3",
        "outputId": "319e15f4-b18c-480b-ef63-7f6d08d978ed"
      },
      "source": [
        "corr_features = correlation(X_train,0.7)\n",
        "len(set(corr_features))"
      ],
      "execution_count": 31,
      "outputs": [
        {
          "output_type": "execute_result",
          "data": {
            "text/plain": [
              "1"
            ]
          },
          "metadata": {},
          "execution_count": 31
        }
      ]
    },
    {
      "cell_type": "code",
      "metadata": {
        "colab": {
          "base_uri": "https://localhost:8080/"
        },
        "id": "Xvn_WSsIpDbs",
        "outputId": "1f03d563-7a42-4111-905b-74251db3ace3"
      },
      "source": [
        "corr_features"
      ],
      "execution_count": 32,
      "outputs": [
        {
          "output_type": "execute_result",
          "data": {
            "text/plain": [
              "{'K'}"
            ]
          },
          "metadata": {},
          "execution_count": 32
        }
      ]
    },
    {
      "cell_type": "code",
      "metadata": {
        "colab": {
          "base_uri": "https://localhost:8080/",
          "height": 419
        },
        "id": "5dUdO6oqpETm",
        "outputId": "8969eb8c-7963-4951-b958-5c35ff935277"
      },
      "source": [
        "X_train.drop(corr_features,axis=1)\n",
        "X_test.drop(corr_features,axis=1)"
      ],
      "execution_count": 33,
      "outputs": [
        {
          "output_type": "execute_result",
          "data": {
            "text/html": [
              "<div>\n",
              "<style scoped>\n",
              "    .dataframe tbody tr th:only-of-type {\n",
              "        vertical-align: middle;\n",
              "    }\n",
              "\n",
              "    .dataframe tbody tr th {\n",
              "        vertical-align: top;\n",
              "    }\n",
              "\n",
              "    .dataframe thead th {\n",
              "        text-align: right;\n",
              "    }\n",
              "</style>\n",
              "<table border=\"1\" class=\"dataframe\">\n",
              "  <thead>\n",
              "    <tr style=\"text-align: right;\">\n",
              "      <th></th>\n",
              "      <th>N</th>\n",
              "      <th>P</th>\n",
              "      <th>temperature</th>\n",
              "      <th>humidity</th>\n",
              "      <th>ph</th>\n",
              "      <th>rainfall</th>\n",
              "    </tr>\n",
              "  </thead>\n",
              "  <tbody>\n",
              "    <tr>\n",
              "      <th>1320</th>\n",
              "      <td>105.0</td>\n",
              "      <td>14.0</td>\n",
              "      <td>26.214884</td>\n",
              "      <td>87.688398</td>\n",
              "      <td>6.419052</td>\n",
              "      <td>59.655908</td>\n",
              "    </tr>\n",
              "    <tr>\n",
              "      <th>1367</th>\n",
              "      <td>91.0</td>\n",
              "      <td>12.0</td>\n",
              "      <td>24.644585</td>\n",
              "      <td>85.499382</td>\n",
              "      <td>6.343943</td>\n",
              "      <td>48.312190</td>\n",
              "    </tr>\n",
              "    <tr>\n",
              "      <th>1291</th>\n",
              "      <td>14.0</td>\n",
              "      <td>121.0</td>\n",
              "      <td>9.724458</td>\n",
              "      <td>83.747656</td>\n",
              "      <td>6.158689</td>\n",
              "      <td>74.464111</td>\n",
              "    </tr>\n",
              "    <tr>\n",
              "      <th>264</th>\n",
              "      <td>52.0</td>\n",
              "      <td>73.0</td>\n",
              "      <td>17.257695</td>\n",
              "      <td>18.749440</td>\n",
              "      <td>7.840339</td>\n",
              "      <td>94.002872</td>\n",
              "    </tr>\n",
              "    <tr>\n",
              "      <th>728</th>\n",
              "      <td>32.0</td>\n",
              "      <td>66.0</td>\n",
              "      <td>34.946616</td>\n",
              "      <td>65.267740</td>\n",
              "      <td>7.162358</td>\n",
              "      <td>70.141514</td>\n",
              "    </tr>\n",
              "    <tr>\n",
              "      <th>...</th>\n",
              "      <td>...</td>\n",
              "      <td>...</td>\n",
              "      <td>...</td>\n",
              "      <td>...</td>\n",
              "      <td>...</td>\n",
              "      <td>...</td>\n",
              "    </tr>\n",
              "    <tr>\n",
              "      <th>446</th>\n",
              "      <td>32.0</td>\n",
              "      <td>70.0</td>\n",
              "      <td>20.893427</td>\n",
              "      <td>46.248565</td>\n",
              "      <td>6.208843</td>\n",
              "      <td>195.569787</td>\n",
              "    </tr>\n",
              "    <tr>\n",
              "      <th>1005</th>\n",
              "      <td>93.0</td>\n",
              "      <td>94.0</td>\n",
              "      <td>25.866324</td>\n",
              "      <td>84.423793</td>\n",
              "      <td>6.079179</td>\n",
              "      <td>114.535750</td>\n",
              "    </tr>\n",
              "    <tr>\n",
              "      <th>1919</th>\n",
              "      <td>117.0</td>\n",
              "      <td>56.0</td>\n",
              "      <td>25.992374</td>\n",
              "      <td>77.054355</td>\n",
              "      <td>7.368258</td>\n",
              "      <td>89.118821</td>\n",
              "    </tr>\n",
              "    <tr>\n",
              "      <th>708</th>\n",
              "      <td>27.0</td>\n",
              "      <td>64.0</td>\n",
              "      <td>32.842130</td>\n",
              "      <td>68.684015</td>\n",
              "      <td>7.543804</td>\n",
              "      <td>73.671662</td>\n",
              "    </tr>\n",
              "    <tr>\n",
              "      <th>1546</th>\n",
              "      <td>31.0</td>\n",
              "      <td>130.0</td>\n",
              "      <td>21.801298</td>\n",
              "      <td>92.734467</td>\n",
              "      <td>5.554824</td>\n",
              "      <td>120.058667</td>\n",
              "    </tr>\n",
              "  </tbody>\n",
              "</table>\n",
              "<p>440 rows × 6 columns</p>\n",
              "</div>"
            ],
            "text/plain": [
              "          N      P  temperature   humidity        ph    rainfall\n",
              "1320  105.0   14.0    26.214884  87.688398  6.419052   59.655908\n",
              "1367   91.0   12.0    24.644585  85.499382  6.343943   48.312190\n",
              "1291   14.0  121.0     9.724458  83.747656  6.158689   74.464111\n",
              "264    52.0   73.0    17.257695  18.749440  7.840339   94.002872\n",
              "728    32.0   66.0    34.946616  65.267740  7.162358   70.141514\n",
              "...     ...    ...          ...        ...       ...         ...\n",
              "446    32.0   70.0    20.893427  46.248565  6.208843  195.569787\n",
              "1005   93.0   94.0    25.866324  84.423793  6.079179  114.535750\n",
              "1919  117.0   56.0    25.992374  77.054355  7.368258   89.118821\n",
              "708    27.0   64.0    32.842130  68.684015  7.543804   73.671662\n",
              "1546   31.0  130.0    21.801298  92.734467  5.554824  120.058667\n",
              "\n",
              "[440 rows x 6 columns]"
            ]
          },
          "metadata": {},
          "execution_count": 33
        }
      ]
    },
    {
      "cell_type": "markdown",
      "metadata": {
        "id": "JSnm0111pTtl"
      },
      "source": [
        "We saw that Potassium and Phosphorus has a strong correlation between them"
      ]
    },
    {
      "cell_type": "markdown",
      "metadata": {
        "id": "yoaw5kmtbHdy"
      },
      "source": [
        "## Model Building"
      ]
    },
    {
      "cell_type": "markdown",
      "metadata": {
        "id": "TarykKRarSXd"
      },
      "source": [
        "We'll use Decision tree, SVM, kNN, Naive bayes classifiers."
      ]
    },
    {
      "cell_type": "code",
      "metadata": {
        "id": "vguKWe5xjNZj"
      },
      "source": [
        "model_list = []\n",
        "acc_list = []"
      ],
      "execution_count": 35,
      "outputs": []
    },
    {
      "cell_type": "markdown",
      "metadata": {
        "id": "Z8L17RJzrz1a"
      },
      "source": [
        ""
      ]
    },
    {
      "cell_type": "markdown",
      "metadata": {
        "id": "NTTRxs5rhou2"
      },
      "source": [
        "### Decision tree"
      ]
    },
    {
      "cell_type": "code",
      "metadata": {
        "id": "LZjxwAYbqark"
      },
      "source": [
        "from sklearn.metrics import classification_report"
      ],
      "execution_count": 36,
      "outputs": []
    },
    {
      "cell_type": "code",
      "metadata": {
        "id": "oPkm5HQKr84e"
      },
      "source": [
        "DecisionTree = DecisionTreeClassifier(criterion=\"entropy\",random_state=42)"
      ],
      "execution_count": 37,
      "outputs": []
    },
    {
      "cell_type": "code",
      "metadata": {
        "colab": {
          "base_uri": "https://localhost:8080/"
        },
        "id": "w3Adfd5QsChP",
        "outputId": "89cf89d5-d103-442c-f73a-51bb52d21621"
      },
      "source": [
        "clf = DecisionTree.fit(x_train, y_train)\n",
        "pred_dec = DecisionTree.predict(x_cv)\n",
        "acc_dec = accuracy_score(y_cv, pred_dec)\n",
        "acc_list.append(acc_dec)\n",
        "model_list.append('DecisionTree')\n",
        "print('DecisionTree accuracy is :', acc_dec * 100)\n",
        "print(classification_report(y_cv, pred_dec))"
      ],
      "execution_count": 38,
      "outputs": [
        {
          "output_type": "stream",
          "name": "stdout",
          "text": [
            "DecisionTree accuracy is : 98.63636363636363\n",
            "              precision    recall  f1-score   support\n",
            "\n",
            "       apple       1.00      1.00      1.00        20\n",
            "      banana       1.00      1.00      1.00        20\n",
            "   blackgram       1.00      0.95      0.97        20\n",
            "    chickpea       1.00      1.00      1.00        20\n",
            "     coconut       1.00      1.00      1.00        20\n",
            "      coffee       0.95      1.00      0.98        20\n",
            "      cotton       1.00      1.00      1.00        20\n",
            "      grapes       1.00      1.00      1.00        20\n",
            "        jute       0.95      0.90      0.92        20\n",
            " kidneybeans       1.00      1.00      1.00        20\n",
            "      lentil       0.95      1.00      0.98        20\n",
            "       maize       0.95      1.00      0.98        20\n",
            "       mango       1.00      1.00      1.00        20\n",
            "   mothbeans       0.95      0.90      0.92        20\n",
            "    mungbean       1.00      1.00      1.00        20\n",
            "   muskmelon       1.00      1.00      1.00        20\n",
            "      orange       1.00      1.00      1.00        20\n",
            "      papaya       1.00      1.00      1.00        20\n",
            "  pigeonpeas       1.00      1.00      1.00        20\n",
            " pomegranate       1.00      1.00      1.00        20\n",
            "        rice       0.95      0.95      0.95        20\n",
            "  watermelon       1.00      1.00      1.00        20\n",
            "\n",
            "    accuracy                           0.99       440\n",
            "   macro avg       0.99      0.99      0.99       440\n",
            "weighted avg       0.99      0.99      0.99       440\n",
            "\n"
          ]
        }
      ]
    },
    {
      "cell_type": "markdown",
      "metadata": {
        "id": "RsWY2fRymJAB"
      },
      "source": [
        "### NB"
      ]
    },
    {
      "cell_type": "code",
      "metadata": {
        "id": "XYirhrltwbqf"
      },
      "source": [
        "from sklearn.naive_bayes import GaussianNB "
      ],
      "execution_count": 43,
      "outputs": []
    },
    {
      "cell_type": "code",
      "metadata": {
        "id": "1WdpNuFzv7Sz"
      },
      "source": [
        "NB = GaussianNB()"
      ],
      "execution_count": 44,
      "outputs": []
    },
    {
      "cell_type": "code",
      "metadata": {
        "colab": {
          "base_uri": "https://localhost:8080/",
          "height": 419
        },
        "id": "5SXXWcPzxq15",
        "outputId": "b2269bfd-64aa-491c-a454-51c7dbecc381"
      },
      "source": [
        "x_train"
      ],
      "execution_count": 49,
      "outputs": [
        {
          "output_type": "execute_result",
          "data": {
            "text/html": [
              "<div>\n",
              "<style scoped>\n",
              "    .dataframe tbody tr th:only-of-type {\n",
              "        vertical-align: middle;\n",
              "    }\n",
              "\n",
              "    .dataframe tbody tr th {\n",
              "        vertical-align: top;\n",
              "    }\n",
              "\n",
              "    .dataframe thead th {\n",
              "        text-align: right;\n",
              "    }\n",
              "</style>\n",
              "<table border=\"1\" class=\"dataframe\">\n",
              "  <thead>\n",
              "    <tr style=\"text-align: right;\">\n",
              "      <th></th>\n",
              "      <th>N</th>\n",
              "      <th>P</th>\n",
              "      <th>K</th>\n",
              "      <th>temperature</th>\n",
              "      <th>humidity</th>\n",
              "      <th>ph</th>\n",
              "      <th>rainfall</th>\n",
              "    </tr>\n",
              "  </thead>\n",
              "  <tbody>\n",
              "    <tr>\n",
              "      <th>265</th>\n",
              "      <td>29</td>\n",
              "      <td>75</td>\n",
              "      <td>75</td>\n",
              "      <td>19.624163</td>\n",
              "      <td>18.714832</td>\n",
              "      <td>7.064790</td>\n",
              "      <td>88.458569</td>\n",
              "    </tr>\n",
              "    <tr>\n",
              "      <th>1561</th>\n",
              "      <td>40</td>\n",
              "      <td>136</td>\n",
              "      <td>202</td>\n",
              "      <td>22.852674</td>\n",
              "      <td>94.576458</td>\n",
              "      <td>5.935336</td>\n",
              "      <td>117.531403</td>\n",
              "    </tr>\n",
              "    <tr>\n",
              "      <th>772</th>\n",
              "      <td>21</td>\n",
              "      <td>80</td>\n",
              "      <td>20</td>\n",
              "      <td>28.206673</td>\n",
              "      <td>68.270852</td>\n",
              "      <td>7.350870</td>\n",
              "      <td>64.328871</td>\n",
              "    </tr>\n",
              "    <tr>\n",
              "      <th>1273</th>\n",
              "      <td>35</td>\n",
              "      <td>135</td>\n",
              "      <td>199</td>\n",
              "      <td>21.774667</td>\n",
              "      <td>80.549426</td>\n",
              "      <td>6.400720</td>\n",
              "      <td>69.396304</td>\n",
              "    </tr>\n",
              "    <tr>\n",
              "      <th>985</th>\n",
              "      <td>39</td>\n",
              "      <td>25</td>\n",
              "      <td>36</td>\n",
              "      <td>18.902230</td>\n",
              "      <td>94.998975</td>\n",
              "      <td>5.567805</td>\n",
              "      <td>107.610321</td>\n",
              "    </tr>\n",
              "    <tr>\n",
              "      <th>...</th>\n",
              "      <td>...</td>\n",
              "      <td>...</td>\n",
              "      <td>...</td>\n",
              "      <td>...</td>\n",
              "      <td>...</td>\n",
              "      <td>...</td>\n",
              "      <td>...</td>\n",
              "    </tr>\n",
              "    <tr>\n",
              "      <th>121</th>\n",
              "      <td>99</td>\n",
              "      <td>50</td>\n",
              "      <td>15</td>\n",
              "      <td>18.147101</td>\n",
              "      <td>71.094453</td>\n",
              "      <td>5.573286</td>\n",
              "      <td>88.077537</td>\n",
              "    </tr>\n",
              "    <tr>\n",
              "      <th>1614</th>\n",
              "      <td>24</td>\n",
              "      <td>18</td>\n",
              "      <td>6</td>\n",
              "      <td>26.566083</td>\n",
              "      <td>94.452397</td>\n",
              "      <td>6.285313</td>\n",
              "      <td>116.379652</td>\n",
              "    </tr>\n",
              "    <tr>\n",
              "      <th>1147</th>\n",
              "      <td>7</td>\n",
              "      <td>17</td>\n",
              "      <td>26</td>\n",
              "      <td>34.892267</td>\n",
              "      <td>48.756134</td>\n",
              "      <td>6.414527</td>\n",
              "      <td>91.630745</td>\n",
              "    </tr>\n",
              "    <tr>\n",
              "      <th>1179</th>\n",
              "      <td>0</td>\n",
              "      <td>17</td>\n",
              "      <td>30</td>\n",
              "      <td>35.474783</td>\n",
              "      <td>47.972305</td>\n",
              "      <td>6.279134</td>\n",
              "      <td>97.790725</td>\n",
              "    </tr>\n",
              "    <tr>\n",
              "      <th>15</th>\n",
              "      <td>60</td>\n",
              "      <td>48</td>\n",
              "      <td>39</td>\n",
              "      <td>24.282094</td>\n",
              "      <td>80.300256</td>\n",
              "      <td>7.042299</td>\n",
              "      <td>231.086335</td>\n",
              "    </tr>\n",
              "  </tbody>\n",
              "</table>\n",
              "<p>1760 rows × 7 columns</p>\n",
              "</div>"
            ],
            "text/plain": [
              "       N    P    K  temperature   humidity        ph    rainfall\n",
              "265   29   75   75    19.624163  18.714832  7.064790   88.458569\n",
              "1561  40  136  202    22.852674  94.576458  5.935336  117.531403\n",
              "772   21   80   20    28.206673  68.270852  7.350870   64.328871\n",
              "1273  35  135  199    21.774667  80.549426  6.400720   69.396304\n",
              "985   39   25   36    18.902230  94.998975  5.567805  107.610321\n",
              "...   ..  ...  ...          ...        ...       ...         ...\n",
              "121   99   50   15    18.147101  71.094453  5.573286   88.077537\n",
              "1614  24   18    6    26.566083  94.452397  6.285313  116.379652\n",
              "1147   7   17   26    34.892267  48.756134  6.414527   91.630745\n",
              "1179   0   17   30    35.474783  47.972305  6.279134   97.790725\n",
              "15    60   48   39    24.282094  80.300256  7.042299  231.086335\n",
              "\n",
              "[1760 rows x 7 columns]"
            ]
          },
          "metadata": {},
          "execution_count": 49
        }
      ]
    },
    {
      "cell_type": "code",
      "metadata": {
        "colab": {
          "base_uri": "https://localhost:8080/"
        },
        "id": "Rsu0ftfhsU56",
        "outputId": "ce06d3e8-e2c7-4f62-b56b-f8c33a2b9902"
      },
      "source": [
        "clf2 = NB.fit(x_train, y_train)\n",
        "pred_nb = NB.predict(x_cv)\n",
        "acc_nb = accuracy_score(y_cv, pred_nb)\n",
        "acc_list.append(acc_nb)\n",
        "model_list.append('NB')\n",
        "print('NB accuracy is :', acc_nb * 100)\n",
        "print(classification_report(y_cv, pred_nb))"
      ],
      "execution_count": 45,
      "outputs": [
        {
          "output_type": "stream",
          "name": "stdout",
          "text": [
            "NB accuracy is : 99.31818181818181\n",
            "              precision    recall  f1-score   support\n",
            "\n",
            "       apple       1.00      1.00      1.00        20\n",
            "      banana       1.00      1.00      1.00        20\n",
            "   blackgram       1.00      1.00      1.00        20\n",
            "    chickpea       1.00      1.00      1.00        20\n",
            "     coconut       1.00      1.00      1.00        20\n",
            "      coffee       1.00      1.00      1.00        20\n",
            "      cotton       1.00      1.00      1.00        20\n",
            "      grapes       1.00      1.00      1.00        20\n",
            "        jute       0.90      0.95      0.93        20\n",
            " kidneybeans       1.00      1.00      1.00        20\n",
            "      lentil       1.00      1.00      1.00        20\n",
            "       maize       1.00      1.00      1.00        20\n",
            "       mango       1.00      1.00      1.00        20\n",
            "   mothbeans       1.00      1.00      1.00        20\n",
            "    mungbean       1.00      1.00      1.00        20\n",
            "   muskmelon       1.00      1.00      1.00        20\n",
            "      orange       1.00      1.00      1.00        20\n",
            "      papaya       1.00      1.00      1.00        20\n",
            "  pigeonpeas       1.00      1.00      1.00        20\n",
            " pomegranate       1.00      1.00      1.00        20\n",
            "        rice       0.95      0.90      0.92        20\n",
            "  watermelon       1.00      1.00      1.00        20\n",
            "\n",
            "    accuracy                           0.99       440\n",
            "   macro avg       0.99      0.99      0.99       440\n",
            "weighted avg       0.99      0.99      0.99       440\n",
            "\n"
          ]
        }
      ]
    },
    {
      "cell_type": "code",
      "metadata": {
        "id": "UHkB4Zy0stea"
      },
      "source": [
        "labels = df.label.sort_values().unique()"
      ],
      "execution_count": 46,
      "outputs": []
    },
    {
      "cell_type": "code",
      "metadata": {
        "colab": {
          "base_uri": "https://localhost:8080/",
          "height": 117
        },
        "id": "Bi5CnCh7syAr",
        "outputId": "70f923f5-528a-442d-face-eeedd60f95b5"
      },
      "source": [
        "predict_df = pd.DataFrame(clf2.predict_proba([[ 55, 77, 22, 30, 90, 7, 36]]), columns=labels)\n",
        "predict_df"
      ],
      "execution_count": 47,
      "outputs": [
        {
          "output_type": "execute_result",
          "data": {
            "text/html": [
              "<div>\n",
              "<style scoped>\n",
              "    .dataframe tbody tr th:only-of-type {\n",
              "        vertical-align: middle;\n",
              "    }\n",
              "\n",
              "    .dataframe tbody tr th {\n",
              "        vertical-align: top;\n",
              "    }\n",
              "\n",
              "    .dataframe thead th {\n",
              "        text-align: right;\n",
              "    }\n",
              "</style>\n",
              "<table border=\"1\" class=\"dataframe\">\n",
              "  <thead>\n",
              "    <tr style=\"text-align: right;\">\n",
              "      <th></th>\n",
              "      <th>apple</th>\n",
              "      <th>banana</th>\n",
              "      <th>blackgram</th>\n",
              "      <th>chickpea</th>\n",
              "      <th>coconut</th>\n",
              "      <th>coffee</th>\n",
              "      <th>cotton</th>\n",
              "      <th>grapes</th>\n",
              "      <th>jute</th>\n",
              "      <th>kidneybeans</th>\n",
              "      <th>lentil</th>\n",
              "      <th>maize</th>\n",
              "      <th>mango</th>\n",
              "      <th>mothbeans</th>\n",
              "      <th>mungbean</th>\n",
              "      <th>muskmelon</th>\n",
              "      <th>orange</th>\n",
              "      <th>papaya</th>\n",
              "      <th>pigeonpeas</th>\n",
              "      <th>pomegranate</th>\n",
              "      <th>rice</th>\n",
              "      <th>watermelon</th>\n",
              "    </tr>\n",
              "  </thead>\n",
              "  <tbody>\n",
              "    <tr>\n",
              "      <th>0</th>\n",
              "      <td>0.0</td>\n",
              "      <td>2.927117e-30</td>\n",
              "      <td>4.377871e-24</td>\n",
              "      <td>0.0</td>\n",
              "      <td>4.405723e-19</td>\n",
              "      <td>5.031706e-21</td>\n",
              "      <td>1.657124e-16</td>\n",
              "      <td>0.0</td>\n",
              "      <td>8.963659e-30</td>\n",
              "      <td>1.518209e-228</td>\n",
              "      <td>3.284065e-13</td>\n",
              "      <td>7.082638e-08</td>\n",
              "      <td>3.103134e-127</td>\n",
              "      <td>0.000001</td>\n",
              "      <td>0.999941</td>\n",
              "      <td>4.983316e-35</td>\n",
              "      <td>1.411947e-47</td>\n",
              "      <td>1.592465e-16</td>\n",
              "      <td>0.000058</td>\n",
              "      <td>2.458115e-157</td>\n",
              "      <td>4.510639e-23</td>\n",
              "      <td>1.706482e-36</td>\n",
              "    </tr>\n",
              "  </tbody>\n",
              "</table>\n",
              "</div>"
            ],
            "text/plain": [
              "   apple        banana     blackgram  ...    pomegranate          rice    watermelon\n",
              "0    0.0  2.927117e-30  4.377871e-24  ...  2.458115e-157  4.510639e-23  1.706482e-36\n",
              "\n",
              "[1 rows x 22 columns]"
            ]
          },
          "metadata": {},
          "execution_count": 47
        }
      ]
    },
    {
      "cell_type": "markdown",
      "metadata": {
        "id": "0fv21z_pnGQy"
      },
      "source": [
        "### kNN"
      ]
    },
    {
      "cell_type": "code",
      "metadata": {
        "id": "aLp8UtpXx3zQ"
      },
      "source": [
        "from sklearn.neighbors import KNeighborsClassifier"
      ],
      "execution_count": 50,
      "outputs": []
    },
    {
      "cell_type": "code",
      "metadata": {
        "id": "fxR9eOOKs7lG"
      },
      "source": [
        "kNN =  KNeighborsClassifier(n_neighbors=10, metric='minkowski')"
      ],
      "execution_count": 52,
      "outputs": []
    },
    {
      "cell_type": "code",
      "metadata": {
        "colab": {
          "base_uri": "https://localhost:8080/"
        },
        "id": "yv9sNxRBs8T2",
        "outputId": "10161d7d-3efa-46be-ba60-1ddc56816b53"
      },
      "source": [
        "kNN.fit(x_train, y_train)\n",
        "pred_knn = kNN.predict(x_cv)\n",
        "acc_knn = accuracy_score(y_cv, pred_knn)\n",
        "acc_list.append(acc_knn)\n",
        "model_list.append('kNN')\n",
        "print('kNN accuracy is :', acc_knn * 100)\n",
        "print(classification_report(y_cv, pred_knn))"
      ],
      "execution_count": 53,
      "outputs": [
        {
          "output_type": "stream",
          "name": "stdout",
          "text": [
            "kNN accuracy is : 97.04545454545455\n",
            "              precision    recall  f1-score   support\n",
            "\n",
            "       apple       1.00      1.00      1.00        20\n",
            "      banana       1.00      1.00      1.00        20\n",
            "   blackgram       0.83      1.00      0.91        20\n",
            "    chickpea       1.00      1.00      1.00        20\n",
            "     coconut       1.00      1.00      1.00        20\n",
            "      coffee       1.00      1.00      1.00        20\n",
            "      cotton       1.00      1.00      1.00        20\n",
            "      grapes       1.00      1.00      1.00        20\n",
            "        jute       0.82      0.90      0.86        20\n",
            " kidneybeans       0.95      1.00      0.98        20\n",
            "      lentil       0.91      1.00      0.95        20\n",
            "       maize       1.00      1.00      1.00        20\n",
            "       mango       1.00      1.00      1.00        20\n",
            "   mothbeans       1.00      0.80      0.89        20\n",
            "    mungbean       1.00      1.00      1.00        20\n",
            "   muskmelon       1.00      1.00      1.00        20\n",
            "      orange       1.00      1.00      1.00        20\n",
            "      papaya       1.00      1.00      1.00        20\n",
            "  pigeonpeas       1.00      0.85      0.92        20\n",
            " pomegranate       1.00      1.00      1.00        20\n",
            "        rice       0.89      0.80      0.84        20\n",
            "  watermelon       1.00      1.00      1.00        20\n",
            "\n",
            "    accuracy                           0.97       440\n",
            "   macro avg       0.97      0.97      0.97       440\n",
            "weighted avg       0.97      0.97      0.97       440\n",
            "\n"
          ]
        }
      ]
    },
    {
      "cell_type": "markdown",
      "metadata": {
        "id": "9_wEZXtmtHV9"
      },
      "source": [
        ""
      ]
    },
    {
      "cell_type": "markdown",
      "metadata": {
        "id": "S6ejQXC0oSx_"
      },
      "source": [
        "### Accuracy comparison plot"
      ]
    },
    {
      "cell_type": "code",
      "metadata": {
        "colab": {
          "base_uri": "https://localhost:8080/",
          "height": 282
        },
        "id": "Fpz4vm6mtKYS",
        "outputId": "ed7cffc3-f78b-41da-96c5-96a2419b95cc"
      },
      "source": [
        "sns.barplot(x = acc_list, y = model_list, palette='rocket')"
      ],
      "execution_count": 54,
      "outputs": [
        {
          "output_type": "execute_result",
          "data": {
            "text/plain": [
              "<matplotlib.axes._subplots.AxesSubplot at 0x7f8b856d9450>"
            ]
          },
          "metadata": {},
          "execution_count": 54
        },
        {
          "output_type": "display_data",
          "data": {
            "image/png": "[encoded data removed]",
            "text/plain": [
              "<Figure size 432x288 with 1 Axes>"
            ]
          },
          "metadata": {
            "needs_background": "light"
          }
        }
      ]
    }
  ]
}